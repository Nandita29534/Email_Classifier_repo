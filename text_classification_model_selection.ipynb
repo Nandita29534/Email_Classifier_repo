{
 "cells": [
  {
   "cell_type": "code",
   "execution_count": 1,
   "id": "b8c62379-64c7-45de-b067-f79111ee1931",
   "metadata": {},
   "outputs": [],
   "source": [
    "import os\n",
    "from dotenv import load_dotenv\n",
    "from sqlalchemy import create_engine\n",
    "import pandas as pd\n",
    "import numpy as np\n",
    "import matplotlib.pyplot as plt\n",
    "import seaborn as sns"
   ]
  },
  {
   "cell_type": "code",
   "execution_count": 2,
   "id": "dbfc4d41-922c-4c4a-8168-92fba1008ab7",
   "metadata": {},
   "outputs": [],
   "source": [
    "import re\n",
    "import string\n",
    "import nltk"
   ]
  },
  {
   "cell_type": "code",
   "execution_count": 3,
   "id": "b2f3ae9d-4de1-4dc4-9404-4d599e0ce562",
   "metadata": {},
   "outputs": [],
   "source": [
    "from sklearn.feature_extraction.text import TfidfVectorizer"
   ]
  },
  {
   "cell_type": "code",
   "execution_count": 4,
   "id": "e445e794-34aa-4d74-985b-021ab076ee62",
   "metadata": {},
   "outputs": [],
   "source": [
    "from sklearn.model_selection import train_test_split,StratifiedKFold, ParameterGrid"
   ]
  },
  {
   "cell_type": "code",
   "execution_count": 5,
   "id": "f165541e-3b41-4bfb-91c2-93edc1369920",
   "metadata": {},
   "outputs": [],
   "source": [
    "from sklearn.metrics import classification_report,ConfusionMatrixDisplay, accuracy_score,f1_score"
   ]
  },
  {
   "cell_type": "code",
   "execution_count": 6,
   "id": "3fc33889-2ad9-4184-9ad2-8a1b547470b3",
   "metadata": {},
   "outputs": [],
   "source": [
    "from sklearn.ensemble import RandomForestClassifier"
   ]
  },
  {
   "cell_type": "code",
   "execution_count": 7,
   "id": "8ae01ef2-9dea-4f8e-995e-cdbaa04f5f4c",
   "metadata": {},
   "outputs": [],
   "source": [
    "from xgboost import XGBClassifier"
   ]
  },
  {
   "cell_type": "code",
   "execution_count": 9,
   "id": "b6b914c2-a510-4fdb-a797-29a41923504d",
   "metadata": {},
   "outputs": [],
   "source": [
    "from sklearn.svm import LinearSVC"
   ]
  },
  {
   "cell_type": "code",
   "execution_count": 8,
   "id": "78b82135-5278-419a-a44d-175a69c3eea3",
   "metadata": {},
   "outputs": [],
   "source": [
    "from sklearn.naive_bayes import MultinomialNB"
   ]
  },
  {
   "cell_type": "code",
   "execution_count": 10,
   "id": "5ced5026-519a-4ef6-9903-72e399780ba2",
   "metadata": {},
   "outputs": [],
   "source": [
    "from lightgbm import LGBMClassifier"
   ]
  },
  {
   "cell_type": "code",
   "execution_count": 11,
   "id": "31ef0b48-09e7-46cc-84a6-ddb7acc22f21",
   "metadata": {},
   "outputs": [],
   "source": [
    "import psycopg2"
   ]
  },
  {
   "cell_type": "code",
   "execution_count": 12,
   "id": "1082d1ca-b839-40d9-b030-3c4cd3891ea3",
   "metadata": {},
   "outputs": [],
   "source": [
    "from scipy.sparse import hstack,csr_matrix,issparse"
   ]
  },
  {
   "cell_type": "code",
   "execution_count": 13,
   "id": "08a14647-10f5-4da4-a5bd-4cd873bbc1ff",
   "metadata": {},
   "outputs": [],
   "source": [
    "from textblob import TextBlob\n",
    "import textstat"
   ]
  },
  {
   "cell_type": "code",
   "execution_count": 14,
   "id": "0d55223a-8d73-486c-bede-0c4e71e5734e",
   "metadata": {},
   "outputs": [
    {
     "name": "stderr",
     "output_type": "stream",
     "text": [
      "[nltk_data] Downloading package punkt to\n",
      "[nltk_data]     C:\\Users\\Nandita\\AppData\\Roaming\\nltk_data...\n",
      "[nltk_data]   Package punkt is already up-to-date!\n"
     ]
    },
    {
     "data": {
      "text/plain": [
       "True"
      ]
     },
     "execution_count": 14,
     "metadata": {},
     "output_type": "execute_result"
    }
   ],
   "source": [
    "nltk.download('punkt')"
   ]
  },
  {
   "cell_type": "code",
   "execution_count": 15,
   "id": "4ad053c4-7f27-41fa-8e6c-c4d79e759d24",
   "metadata": {},
   "outputs": [
    {
     "name": "stderr",
     "output_type": "stream",
     "text": [
      "[nltk_data] Downloading package stopwords to\n",
      "[nltk_data]     C:\\Users\\Nandita\\AppData\\Roaming\\nltk_data...\n",
      "[nltk_data]   Package stopwords is already up-to-date!\n"
     ]
    },
    {
     "data": {
      "text/plain": [
       "True"
      ]
     },
     "execution_count": 15,
     "metadata": {},
     "output_type": "execute_result"
    }
   ],
   "source": [
    "nltk.download('stopwords')"
   ]
  },
  {
   "cell_type": "code",
   "execution_count": 16,
   "id": "839efd58-831a-4ecb-8063-09ce21eacd2b",
   "metadata": {},
   "outputs": [],
   "source": [
    "from nltk.corpus import stopwords"
   ]
  },
  {
   "cell_type": "code",
   "execution_count": 17,
   "id": "68366cc9-b480-4097-9676-35bc5733f355",
   "metadata": {},
   "outputs": [
    {
     "data": {
      "text/plain": [
       "True"
      ]
     },
     "execution_count": 17,
     "metadata": {},
     "output_type": "execute_result"
    }
   ],
   "source": [
    "load_dotenv()"
   ]
  },
  {
   "cell_type": "code",
   "execution_count": 18,
   "id": "b450dabe-b988-4c7a-9d0e-abf8799b2871",
   "metadata": {},
   "outputs": [],
   "source": [
    "DB_HOST = os.getenv(\"DB_HOST\")\n",
    "DB_PORT = os.getenv(\"DB_PORT\")\n",
    "DB_NAME = os.getenv(\"DB_NAME\")\n",
    "DB_USER = os.getenv(\"DB_USER\")\n",
    "DB_PASSWORD = os.getenv(\"DB_PASSWORD\")"
   ]
  },
  {
   "cell_type": "code",
   "execution_count": 19,
   "id": "5944e141-de6a-468e-bafe-d96564cf8493",
   "metadata": {},
   "outputs": [],
   "source": [
    "DATABASE_URL = f\"postgresql+psycopg2://{DB_USER}:{DB_PASSWORD}@{DB_HOST}:{DB_PORT}/{DB_NAME}\""
   ]
  },
  {
   "cell_type": "code",
   "execution_count": 20,
   "id": "d44f56f4-1c8a-428b-b6d0-2b9fb0e486f5",
   "metadata": {},
   "outputs": [],
   "source": [
    "engine = create_engine(DATABASE_URL)"
   ]
  },
  {
   "cell_type": "code",
   "execution_count": 21,
   "id": "364ee38c-6865-49a4-a3bd-b01882022939",
   "metadata": {},
   "outputs": [],
   "source": [
    "train_df = pd.read_sql(\"SELECT * FROM train_data\", engine)"
   ]
  },
  {
   "cell_type": "code",
   "execution_count": 22,
   "id": "ee25285f-54aa-43d9-9a1e-f65e41616eda",
   "metadata": {},
   "outputs": [],
   "source": [
    "def clean_texts(col): \n",
    "    col = col.lower() \n",
    "    col = re.sub(r\"\\d+\", \" num \", col)  \n",
    "    col = re.sub(r\"[^\\w\\s!?]\", \"\", col)  \n",
    "    col = \" \".join([word for word in col.split() if word not in stopwords.words('english')])  \n",
    "    return col"
   ]
  },
  {
   "cell_type": "code",
   "execution_count": 23,
   "id": "a038c6e0-1c06-4059-9a56-bb4a1719ff68",
   "metadata": {},
   "outputs": [],
   "source": [
    "def convert_to_tfidf_vectorizer(df, text_col, max_features=5000, ngram_range=(1,2)):\n",
    "    df = df.copy()\n",
    "    vectorizer = TfidfVectorizer(max_features=max_features, ngram_range=ngram_range)\n",
    "    X_tfidf = vectorizer.fit_transform(df[text_col])\n",
    "    \n",
    "    return X_tfidf, vectorizer"
   ]
  },
  {
   "cell_type": "code",
   "execution_count": 24,
   "id": "119238c5-80dd-4bee-8604-dfd4c491a141",
   "metadata": {},
   "outputs": [],
   "source": [
    "def get_train_test(X, y, test_size=0.2, random_state=101):\n",
    "    X_train, X_test, y_train, y_test = train_test_split(\n",
    "        X, y,\n",
    "        test_size=test_size,\n",
    "        random_state=random_state,\n",
    "        stratify=y   \n",
    "    )\n",
    "    return X_train, X_test, y_train, y_test"
   ]
  },
  {
   "cell_type": "code",
   "execution_count": 25,
   "id": "bc35b006-275d-482c-9c80-cbb396829690",
   "metadata": {},
   "outputs": [],
   "source": [
    "def combine_features(X_tfidf, engineered_features):\n",
    "    if not issparse(engineered_features):\n",
    "        engineered_features = engineered_features.values\n",
    "    \n",
    "    return hstack([X_tfidf, engineered_features])"
   ]
  },
  {
   "cell_type": "code",
   "execution_count": 26,
   "id": "d7ae642f-ae2d-40b6-826c-658b71014648",
   "metadata": {},
   "outputs": [],
   "source": [
    "def get_all_feature_names(tfidf_vectorizer, engineered_features):\n",
    "    tfidf_features = tfidf_vectorizer.get_feature_names_out()\n",
    "    engineered_features_cols = engineered_features.columns\n",
    "    return np.concatenate([tfidf_features, engineered_features_cols])"
   ]
  },
  {
   "cell_type": "code",
   "execution_count": 27,
   "id": "0798c477-f720-4e18-bfa1-214acea8994e",
   "metadata": {},
   "outputs": [],
   "source": [
    "def textblob_features(text):\n",
    "    blob = TextBlob(text)\n",
    "    return pd.Series([blob.sentiment.polarity,blob.sentiment.subjectivity])"
   ]
  },
  {
   "cell_type": "code",
   "execution_count": 28,
   "id": "3a9e4d63-d66a-451e-9fea-1341a832c87c",
   "metadata": {},
   "outputs": [],
   "source": [
    "def get_readability(text):\n",
    "    flesch = textstat.flesch_reading_ease(text)\n",
    "    gunning = textstat.gunning_fog(text)\n",
    "    return pd.Series([flesch,gunning])"
   ]
  },
  {
   "cell_type": "code",
   "execution_count": 74,
   "id": "8b8c93b1-c23a-4589-be0c-207c5014bd11",
   "metadata": {},
   "outputs": [],
   "source": [
    "def stratified_kfold_eval(X, y, model, n_splits=5):\n",
    "    \n",
    "    skf = StratifiedKFold(n_splits=n_splits, shuffle=True, random_state=42)\n",
    "    accuracies, f1_scores = [], []\n",
    "\n",
    "    for train_idx, val_idx in skf.split(X, y):\n",
    "        X_train_fold, X_val_fold =  X.tocsr()[train_idx], X.tocsr()[val_idx]\n",
    "        y_train_fold, y_val_fold = y.iloc[train_idx], y.iloc[val_idx]\n",
    "\n",
    "        model.fit(X_train_fold, y_train_fold)\n",
    "        y_pred = model.predict(X_val_fold)\n",
    "\n",
    "        accuracies.append(accuracy_score(y_val_fold, y_pred))\n",
    "        f1_scores.append(f1_score(y_val_fold, y_pred, average=\"macro\"))\n",
    "\n",
    "    results = {\n",
    "        \"mean_accuracy\": np.mean(accuracies),\n",
    "        \"std_accuracy\": np.std(accuracies),\n",
    "        \"mean_f1\": np.mean(f1_scores),\n",
    "        \"std_f1\": np.std(f1_scores)\n",
    "    }\n",
    "\n",
    "    return pd.DataFrame([results])\n"
   ]
  },
  {
   "cell_type": "code",
   "execution_count": 37,
   "id": "7bad7ec2-3bec-4e9f-8dc4-e316e92b5ac4",
   "metadata": {},
   "outputs": [],
   "source": [
    "def evaluate_train_test(model, X_train, X_test, y_train, y_test):\n",
    "    # Fit model\n",
    "    model.fit(X_train, y_train)\n",
    "    \n",
    "    # Predictions\n",
    "    y_pred = model.predict(X_test)\n",
    "    \n",
    "    # Metrics\n",
    "    accuracy = accuracy_score(y_test, y_pred)\n",
    "    f1 = f1_score(y_test, y_pred, average=\"macro\")\n",
    "    \n",
    "    # Print scores\n",
    "    print(f\"Accuracy: {accuracy:.4f}\")\n",
    "    print(f\"F1 Score (macro): {f1:.4f}\\n\")\n",
    "    \n",
    "    # Classification report\n",
    "    print(\"Classification Report:\\n\", classification_report(y_test, y_pred))\n",
    "    \n",
    "    # Confusion matrix\n",
    "    ConfusionMatrixDisplay.from_predictions(y_test, y_pred, cmap=\"Blues\")\n",
    "    plt.show()\n"
   ]
  },
  {
   "cell_type": "code",
   "execution_count": 38,
   "id": "c88d0806-5a38-4e81-b9c4-92c590b33f23",
   "metadata": {},
   "outputs": [],
   "source": [
    "df1 = train_df.copy()"
   ]
  },
  {
   "cell_type": "code",
   "execution_count": 39,
   "id": "6bbcdba5-9b93-4002-b4bc-c88961189061",
   "metadata": {},
   "outputs": [
    {
     "data": {
      "text/plain": [
       "Index(['id', 'subject', 'body', 'text', 'category', 'category_id'], dtype='object')"
      ]
     },
     "execution_count": 39,
     "metadata": {},
     "output_type": "execute_result"
    }
   ],
   "source": [
    "df1.columns"
   ]
  },
  {
   "cell_type": "code",
   "execution_count": 40,
   "id": "aec36c63-6f54-464c-8859-5ca7362872ff",
   "metadata": {},
   "outputs": [],
   "source": [
    "df1['combined_text_original'] = df1['subject'] + \" \" + df1['body']+ \" \" +df1['text']"
   ]
  },
  {
   "cell_type": "code",
   "execution_count": 41,
   "id": "036bf27f-8382-4d96-95f0-6c9426f5b140",
   "metadata": {},
   "outputs": [],
   "source": [
    "df1['combined_text_normalized'] = df1['combined_text_original'].astype(str).apply(clean_texts)"
   ]
  },
  {
   "cell_type": "code",
   "execution_count": 42,
   "id": "2db7f724-aa15-49b9-a1f8-fe393714d549",
   "metadata": {},
   "outputs": [
    {
     "data": {
      "text/html": [
       "<div>\n",
       "<style scoped>\n",
       "    .dataframe tbody tr th:only-of-type {\n",
       "        vertical-align: middle;\n",
       "    }\n",
       "\n",
       "    .dataframe tbody tr th {\n",
       "        vertical-align: top;\n",
       "    }\n",
       "\n",
       "    .dataframe thead th {\n",
       "        text-align: right;\n",
       "    }\n",
       "</style>\n",
       "<table border=\"1\" class=\"dataframe\">\n",
       "  <thead>\n",
       "    <tr style=\"text-align: right;\">\n",
       "      <th></th>\n",
       "      <th>id</th>\n",
       "      <th>subject</th>\n",
       "      <th>body</th>\n",
       "      <th>text</th>\n",
       "      <th>category</th>\n",
       "      <th>category_id</th>\n",
       "      <th>combined_text_original</th>\n",
       "      <th>combined_text_normalized</th>\n",
       "    </tr>\n",
       "  </thead>\n",
       "  <tbody>\n",
       "    <tr>\n",
       "      <th>0</th>\n",
       "      <td>promotions_582</td>\n",
       "      <td>Anniversary Special: Buy one get one free</td>\n",
       "      <td>As our loyal customer, get exclusive $60 off $...</td>\n",
       "      <td>Anniversary Special: Buy one get one free As o...</td>\n",
       "      <td>promotions</td>\n",
       "      <td>1</td>\n",
       "      <td>Anniversary Special: Buy one get one free As o...</td>\n",
       "      <td>anniversary special buy one get one free loyal...</td>\n",
       "    </tr>\n",
       "    <tr>\n",
       "      <th>1</th>\n",
       "      <td>spam_1629</td>\n",
       "      <td>Your Amazon was used on new device</td>\n",
       "      <td>Your $5000 refund is processed. Claim: bit.ly/...</td>\n",
       "      <td>Your Amazon was used on new device Your $5000 ...</td>\n",
       "      <td>spam</td>\n",
       "      <td>3</td>\n",
       "      <td>Your Amazon was used on new device Your $5000 ...</td>\n",
       "      <td>amazon used new device num refund processed cl...</td>\n",
       "    </tr>\n",
       "    <tr>\n",
       "      <th>2</th>\n",
       "      <td>spam_322</td>\n",
       "      <td>Re: Your Google inquiry</td>\n",
       "      <td>Hi, following up about your Google application...</td>\n",
       "      <td>Re: Your Google inquiry Hi, following up about...</td>\n",
       "      <td>spam</td>\n",
       "      <td>3</td>\n",
       "      <td>Re: Your Google inquiry Hi, following up about...</td>\n",
       "      <td>google inquiry hi following google application...</td>\n",
       "    </tr>\n",
       "    <tr>\n",
       "      <th>3</th>\n",
       "      <td>social_media_80</td>\n",
       "      <td>Digital Ritual Experience Creation</td>\n",
       "      <td>Cross-cultural ceremony design. Join: virtualr...</td>\n",
       "      <td>Digital Ritual Experience Creation Cross-cultu...</td>\n",
       "      <td>social_media</td>\n",
       "      <td>2</td>\n",
       "      <td>Digital Ritual Experience Creation Cross-cultu...</td>\n",
       "      <td>digital ritual experience creation crosscultur...</td>\n",
       "    </tr>\n",
       "    <tr>\n",
       "      <th>4</th>\n",
       "      <td>forum_1351</td>\n",
       "      <td>Your post was moved to \"Programming Help\"</td>\n",
       "      <td>Trending: \"cooking\" (258 comments). View: supp...</td>\n",
       "      <td>Your post was moved to \"Programming Help\" Tren...</td>\n",
       "      <td>forum</td>\n",
       "      <td>0</td>\n",
       "      <td>Your post was moved to \"Programming Help\" Tren...</td>\n",
       "      <td>post moved programming help trending cooking n...</td>\n",
       "    </tr>\n",
       "  </tbody>\n",
       "</table>\n",
       "</div>"
      ],
      "text/plain": [
       "                id                                    subject  \\\n",
       "0   promotions_582  Anniversary Special: Buy one get one free   \n",
       "1        spam_1629         Your Amazon was used on new device   \n",
       "2         spam_322                    Re: Your Google inquiry   \n",
       "3  social_media_80         Digital Ritual Experience Creation   \n",
       "4       forum_1351  Your post was moved to \"Programming Help\"   \n",
       "\n",
       "                                                body  \\\n",
       "0  As our loyal customer, get exclusive $60 off $...   \n",
       "1  Your $5000 refund is processed. Claim: bit.ly/...   \n",
       "2  Hi, following up about your Google application...   \n",
       "3  Cross-cultural ceremony design. Join: virtualr...   \n",
       "4  Trending: \"cooking\" (258 comments). View: supp...   \n",
       "\n",
       "                                                text      category  \\\n",
       "0  Anniversary Special: Buy one get one free As o...    promotions   \n",
       "1  Your Amazon was used on new device Your $5000 ...          spam   \n",
       "2  Re: Your Google inquiry Hi, following up about...          spam   \n",
       "3  Digital Ritual Experience Creation Cross-cultu...  social_media   \n",
       "4  Your post was moved to \"Programming Help\" Tren...         forum   \n",
       "\n",
       "   category_id                             combined_text_original  \\\n",
       "0            1  Anniversary Special: Buy one get one free As o...   \n",
       "1            3  Your Amazon was used on new device Your $5000 ...   \n",
       "2            3  Re: Your Google inquiry Hi, following up about...   \n",
       "3            2  Digital Ritual Experience Creation Cross-cultu...   \n",
       "4            0  Your post was moved to \"Programming Help\" Tren...   \n",
       "\n",
       "                            combined_text_normalized  \n",
       "0  anniversary special buy one get one free loyal...  \n",
       "1  amazon used new device num refund processed cl...  \n",
       "2  google inquiry hi following google application...  \n",
       "3  digital ritual experience creation crosscultur...  \n",
       "4  post moved programming help trending cooking n...  "
      ]
     },
     "execution_count": 42,
     "metadata": {},
     "output_type": "execute_result"
    }
   ],
   "source": [
    "df1.head()"
   ]
  },
  {
   "cell_type": "code",
   "execution_count": 43,
   "id": "c2ffd38d-756a-47a2-8d82-5b256fd586b6",
   "metadata": {},
   "outputs": [],
   "source": [
    "df1 = df1[['category_id','combined_text_original','combined_text_normalized']]"
   ]
  },
  {
   "cell_type": "code",
   "execution_count": 44,
   "id": "f38ab015-da73-4f94-b9f8-c9960146e3c5",
   "metadata": {},
   "outputs": [],
   "source": [
    "df1[['polarity','subjectivity']] = df1['combined_text_original'].apply(textblob_features)"
   ]
  },
  {
   "cell_type": "code",
   "execution_count": 45,
   "id": "a85b7cc5-3b51-4244-bd5d-2357ede161e0",
   "metadata": {},
   "outputs": [],
   "source": [
    "df1[['flesch', 'gunning_fog']] = df1['combined_text_original'].apply(get_readability)"
   ]
  },
  {
   "cell_type": "code",
   "execution_count": 46,
   "id": "1036da54-2f12-469b-b846-6ab9c8a95b55",
   "metadata": {},
   "outputs": [
    {
     "data": {
      "text/html": [
       "<div>\n",
       "<style scoped>\n",
       "    .dataframe tbody tr th:only-of-type {\n",
       "        vertical-align: middle;\n",
       "    }\n",
       "\n",
       "    .dataframe tbody tr th {\n",
       "        vertical-align: top;\n",
       "    }\n",
       "\n",
       "    .dataframe thead th {\n",
       "        text-align: right;\n",
       "    }\n",
       "</style>\n",
       "<table border=\"1\" class=\"dataframe\">\n",
       "  <thead>\n",
       "    <tr style=\"text-align: right;\">\n",
       "      <th></th>\n",
       "      <th>category_id</th>\n",
       "      <th>combined_text_original</th>\n",
       "      <th>combined_text_normalized</th>\n",
       "      <th>polarity</th>\n",
       "      <th>subjectivity</th>\n",
       "      <th>flesch</th>\n",
       "      <th>gunning_fog</th>\n",
       "    </tr>\n",
       "  </thead>\n",
       "  <tbody>\n",
       "    <tr>\n",
       "      <th>0</th>\n",
       "      <td>1</td>\n",
       "      <td>Anniversary Special: Buy one get one free As o...</td>\n",
       "      <td>anniversary special buy one get one free loyal...</td>\n",
       "      <td>0.363492</td>\n",
       "      <td>0.734921</td>\n",
       "      <td>44.405000</td>\n",
       "      <td>10.000000</td>\n",
       "    </tr>\n",
       "    <tr>\n",
       "      <th>1</th>\n",
       "      <td>3</td>\n",
       "      <td>Your Amazon was used on new device Your $5000 ...</td>\n",
       "      <td>amazon used new device num refund processed cl...</td>\n",
       "      <td>0.118182</td>\n",
       "      <td>0.427273</td>\n",
       "      <td>68.819265</td>\n",
       "      <td>8.105882</td>\n",
       "    </tr>\n",
       "    <tr>\n",
       "      <th>2</th>\n",
       "      <td>3</td>\n",
       "      <td>Re: Your Google inquiry Hi, following up about...</td>\n",
       "      <td>google inquiry hi following google application...</td>\n",
       "      <td>0.000000</td>\n",
       "      <td>0.100000</td>\n",
       "      <td>74.352500</td>\n",
       "      <td>7.654545</td>\n",
       "    </tr>\n",
       "    <tr>\n",
       "      <th>3</th>\n",
       "      <td>2</td>\n",
       "      <td>Digital Ritual Experience Creation Cross-cultu...</td>\n",
       "      <td>digital ritual experience creation crosscultur...</td>\n",
       "      <td>0.000000</td>\n",
       "      <td>0.000000</td>\n",
       "      <td>-91.002045</td>\n",
       "      <td>31.290909</td>\n",
       "    </tr>\n",
       "    <tr>\n",
       "      <th>4</th>\n",
       "      <td>0</td>\n",
       "      <td>Your post was moved to \"Programming Help\" Tren...</td>\n",
       "      <td>post moved programming help trending cooking n...</td>\n",
       "      <td>0.000000</td>\n",
       "      <td>0.000000</td>\n",
       "      <td>50.470769</td>\n",
       "      <td>11.353846</td>\n",
       "    </tr>\n",
       "  </tbody>\n",
       "</table>\n",
       "</div>"
      ],
      "text/plain": [
       "   category_id                             combined_text_original  \\\n",
       "0            1  Anniversary Special: Buy one get one free As o...   \n",
       "1            3  Your Amazon was used on new device Your $5000 ...   \n",
       "2            3  Re: Your Google inquiry Hi, following up about...   \n",
       "3            2  Digital Ritual Experience Creation Cross-cultu...   \n",
       "4            0  Your post was moved to \"Programming Help\" Tren...   \n",
       "\n",
       "                            combined_text_normalized  polarity  subjectivity  \\\n",
       "0  anniversary special buy one get one free loyal...  0.363492      0.734921   \n",
       "1  amazon used new device num refund processed cl...  0.118182      0.427273   \n",
       "2  google inquiry hi following google application...  0.000000      0.100000   \n",
       "3  digital ritual experience creation crosscultur...  0.000000      0.000000   \n",
       "4  post moved programming help trending cooking n...  0.000000      0.000000   \n",
       "\n",
       "      flesch  gunning_fog  \n",
       "0  44.405000    10.000000  \n",
       "1  68.819265     8.105882  \n",
       "2  74.352500     7.654545  \n",
       "3 -91.002045    31.290909  \n",
       "4  50.470769    11.353846  "
      ]
     },
     "execution_count": 46,
     "metadata": {},
     "output_type": "execute_result"
    }
   ],
   "source": [
    "df1.head()"
   ]
  },
  {
   "cell_type": "code",
   "execution_count": 47,
   "id": "b406664d-9f63-4a97-8687-70ebab029ee4",
   "metadata": {},
   "outputs": [],
   "source": [
    "X = df1.drop('category_id',axis=1)"
   ]
  },
  {
   "cell_type": "code",
   "execution_count": 48,
   "id": "3a5a29d7-84b0-47f9-ab67-9893b41d9e1c",
   "metadata": {},
   "outputs": [],
   "source": [
    "y = df1['category_id']"
   ]
  },
  {
   "cell_type": "code",
   "execution_count": 49,
   "id": "61296386-ecd0-4fa1-823d-7eed08fe59b6",
   "metadata": {},
   "outputs": [],
   "source": [
    "X_train, X_test, y_train, y_test = get_train_test(X, y, test_size=0.2, random_state=101)"
   ]
  },
  {
   "cell_type": "code",
   "execution_count": 50,
   "id": "8a2c29a7-9929-4f86-b81d-589d1afc0b9b",
   "metadata": {},
   "outputs": [],
   "source": [
    "X_tfidf_train,vector = convert_to_tfidf_vectorizer(X_train,'combined_text_normalized',max_features=10000, ngram_range=(2,3))"
   ]
  },
  {
   "cell_type": "code",
   "execution_count": 51,
   "id": "0c230758-3ff2-4226-86ae-ea95ed580a83",
   "metadata": {},
   "outputs": [],
   "source": [
    "X_tfidf_test = vector.transform(X_test['combined_text_normalized'])"
   ]
  },
  {
   "cell_type": "code",
   "execution_count": 52,
   "id": "9c159d40-7bda-4db4-86ed-e421f0913b61",
   "metadata": {},
   "outputs": [],
   "source": [
    "X_train.drop(['combined_text_original','combined_text_normalized'],axis=1,inplace=True)"
   ]
  },
  {
   "cell_type": "code",
   "execution_count": 53,
   "id": "9f8d6b50-ed7a-4bc6-9286-ca49505c8966",
   "metadata": {},
   "outputs": [],
   "source": [
    "X_test.drop(['combined_text_original','combined_text_normalized'],axis=1,inplace=True)"
   ]
  },
  {
   "cell_type": "code",
   "execution_count": 54,
   "id": "ef82d0b7-a570-4bc1-a9a8-a011fd1cc2df",
   "metadata": {},
   "outputs": [],
   "source": [
    "X_input_train = combine_features(X_tfidf_train,X_train)"
   ]
  },
  {
   "cell_type": "code",
   "execution_count": 55,
   "id": "1a426ac4-1d5c-40ea-8818-8cf4dd6c9d9e",
   "metadata": {},
   "outputs": [],
   "source": [
    "X_input_test = combine_features(X_tfidf_test,X_test)"
   ]
  },
  {
   "cell_type": "code",
   "execution_count": 56,
   "id": "9877d299-9d04-4a84-9c5a-7cc913550c1f",
   "metadata": {},
   "outputs": [],
   "source": [
    "rf = RandomForestClassifier(random_state=42, n_jobs=-1)"
   ]
  },
  {
   "cell_type": "code",
   "execution_count": 75,
   "id": "4565b268-ad04-49cc-a42a-1564342108b2",
   "metadata": {},
   "outputs": [],
   "source": [
    "results = stratified_kfold_eval(X_input_train,y_train,rf, n_splits=5)"
   ]
  },
  {
   "cell_type": "code",
   "execution_count": 76,
   "id": "2943ddd0-af43-4bdd-bce0-4930d8b3ff40",
   "metadata": {},
   "outputs": [
    {
     "data": {
      "text/html": [
       "<div>\n",
       "<style scoped>\n",
       "    .dataframe tbody tr th:only-of-type {\n",
       "        vertical-align: middle;\n",
       "    }\n",
       "\n",
       "    .dataframe tbody tr th {\n",
       "        vertical-align: top;\n",
       "    }\n",
       "\n",
       "    .dataframe thead th {\n",
       "        text-align: right;\n",
       "    }\n",
       "</style>\n",
       "<table border=\"1\" class=\"dataframe\">\n",
       "  <thead>\n",
       "    <tr style=\"text-align: right;\">\n",
       "      <th></th>\n",
       "      <th>mean_accuracy</th>\n",
       "      <th>std_accuracy</th>\n",
       "      <th>mean_f1</th>\n",
       "      <th>std_f1</th>\n",
       "    </tr>\n",
       "  </thead>\n",
       "  <tbody>\n",
       "    <tr>\n",
       "      <th>0</th>\n",
       "      <td>0.961271</td>\n",
       "      <td>0.001921</td>\n",
       "      <td>0.96134</td>\n",
       "      <td>0.001908</td>\n",
       "    </tr>\n",
       "  </tbody>\n",
       "</table>\n",
       "</div>"
      ],
      "text/plain": [
       "   mean_accuracy  std_accuracy  mean_f1    std_f1\n",
       "0       0.961271      0.001921  0.96134  0.001908"
      ]
     },
     "execution_count": 76,
     "metadata": {},
     "output_type": "execute_result"
    }
   ],
   "source": [
    "results"
   ]
  },
  {
   "cell_type": "code",
   "execution_count": 78,
   "id": "0d97b125-66ae-4077-954a-b9450285151c",
   "metadata": {},
   "outputs": [
    {
     "name": "stdout",
     "output_type": "stream",
     "text": [
      "Accuracy: 0.9606\n",
      "F1 Score (macro): 0.9607\n",
      "\n",
      "Classification Report:\n",
      "               precision    recall  f1-score   support\n",
      "\n",
      "           0       0.94      0.97      0.96       360\n",
      "           1       0.93      0.97      0.95       359\n",
      "           2       0.96      0.96      0.96       359\n",
      "           3       0.99      0.93      0.96       359\n",
      "           4       0.96      0.96      0.96       359\n",
      "           5       1.00      0.97      0.99       360\n",
      "\n",
      "    accuracy                           0.96      2156\n",
      "   macro avg       0.96      0.96      0.96      2156\n",
      "weighted avg       0.96      0.96      0.96      2156\n",
      "\n"
     ]
    },
    {
     "data": {
      "image/png": "[encoded data removed]",
      "text/plain": [
       "<Figure size 640x480 with 2 Axes>"
      ]
     },
     "metadata": {},
     "output_type": "display_data"
    }
   ],
   "source": [
    "evaluate_train_test(rf, X_input_train, X_input_test, y_train, y_test)"
   ]
  },
  {
   "cell_type": "code",
   "execution_count": 98,
   "id": "a5965b7a-393b-4160-9e77-79096af04dad",
   "metadata": {},
   "outputs": [],
   "source": [
    "xgb = XGBClassifier(\n",
    "    use_label_encoder=False,  \n",
    "    eval_metric=\"logloss\",    \n",
    "    n_jobs=-1,                \n",
    "    random_state=42\n",
    ")\n"
   ]
  },
  {
   "cell_type": "code",
   "execution_count": 79,
   "id": "1b4fda3f-8c54-4ed6-971d-8056dcb2b2f6",
   "metadata": {},
   "outputs": [
    {
     "name": "stderr",
     "output_type": "stream",
     "text": [
      "D:\\MiniForge\\envs\\email_classification_env\\Lib\\site-packages\\xgboost\\training.py:183: UserWarning: [16:25:43] WARNING: D:\\bld\\xgboost-split_1755048450370\\work\\src\\learner.cc:738: \n",
      "Parameters: { \"use_label_encoder\" } are not used.\n",
      "\n",
      "  bst.update(dtrain, iteration=i, fobj=obj)\n",
      "D:\\MiniForge\\envs\\email_classification_env\\Lib\\site-packages\\xgboost\\training.py:183: UserWarning: [16:26:09] WARNING: D:\\bld\\xgboost-split_1755048450370\\work\\src\\learner.cc:738: \n",
      "Parameters: { \"use_label_encoder\" } are not used.\n",
      "\n",
      "  bst.update(dtrain, iteration=i, fobj=obj)\n",
      "D:\\MiniForge\\envs\\email_classification_env\\Lib\\site-packages\\xgboost\\training.py:183: UserWarning: [16:26:34] WARNING: D:\\bld\\xgboost-split_1755048450370\\work\\src\\learner.cc:738: \n",
      "Parameters: { \"use_label_encoder\" } are not used.\n",
      "\n",
      "  bst.update(dtrain, iteration=i, fobj=obj)\n",
      "D:\\MiniForge\\envs\\email_classification_env\\Lib\\site-packages\\xgboost\\training.py:183: UserWarning: [16:27:00] WARNING: D:\\bld\\xgboost-split_1755048450370\\work\\src\\learner.cc:738: \n",
      "Parameters: { \"use_label_encoder\" } are not used.\n",
      "\n",
      "  bst.update(dtrain, iteration=i, fobj=obj)\n",
      "D:\\MiniForge\\envs\\email_classification_env\\Lib\\site-packages\\xgboost\\training.py:183: UserWarning: [16:27:24] WARNING: D:\\bld\\xgboost-split_1755048450370\\work\\src\\learner.cc:738: \n",
      "Parameters: { \"use_label_encoder\" } are not used.\n",
      "\n",
      "  bst.update(dtrain, iteration=i, fobj=obj)\n"
     ]
    }
   ],
   "source": [
    "results_1 = stratified_kfold_eval(X_input_train,y_train,xgb,n_splits=5)"
   ]
  },
  {
   "cell_type": "code",
   "execution_count": 80,
   "id": "4c86963e-88b1-4985-8f41-0d37d8e3724e",
   "metadata": {},
   "outputs": [
    {
     "data": {
      "text/html": [
       "<div>\n",
       "<style scoped>\n",
       "    .dataframe tbody tr th:only-of-type {\n",
       "        vertical-align: middle;\n",
       "    }\n",
       "\n",
       "    .dataframe tbody tr th {\n",
       "        vertical-align: top;\n",
       "    }\n",
       "\n",
       "    .dataframe thead th {\n",
       "        text-align: right;\n",
       "    }\n",
       "</style>\n",
       "<table border=\"1\" class=\"dataframe\">\n",
       "  <thead>\n",
       "    <tr style=\"text-align: right;\">\n",
       "      <th></th>\n",
       "      <th>mean_accuracy</th>\n",
       "      <th>std_accuracy</th>\n",
       "      <th>mean_f1</th>\n",
       "      <th>std_f1</th>\n",
       "    </tr>\n",
       "  </thead>\n",
       "  <tbody>\n",
       "    <tr>\n",
       "      <th>0</th>\n",
       "      <td>0.955241</td>\n",
       "      <td>0.002056</td>\n",
       "      <td>0.955306</td>\n",
       "      <td>0.002042</td>\n",
       "    </tr>\n",
       "  </tbody>\n",
       "</table>\n",
       "</div>"
      ],
      "text/plain": [
       "   mean_accuracy  std_accuracy   mean_f1    std_f1\n",
       "0       0.955241      0.002056  0.955306  0.002042"
      ]
     },
     "execution_count": 80,
     "metadata": {},
     "output_type": "execute_result"
    }
   ],
   "source": [
    "results_1"
   ]
  },
  {
   "cell_type": "code",
   "execution_count": 81,
   "id": "976f36a0-0a46-4dd9-a8e8-ccd4be432497",
   "metadata": {},
   "outputs": [
    {
     "name": "stderr",
     "output_type": "stream",
     "text": [
      "D:\\MiniForge\\envs\\email_classification_env\\Lib\\site-packages\\xgboost\\training.py:183: UserWarning: [16:28:04] WARNING: D:\\bld\\xgboost-split_1755048450370\\work\\src\\learner.cc:738: \n",
      "Parameters: { \"use_label_encoder\" } are not used.\n",
      "\n",
      "  bst.update(dtrain, iteration=i, fobj=obj)\n"
     ]
    },
    {
     "name": "stdout",
     "output_type": "stream",
     "text": [
      "Accuracy: 0.9573\n",
      "F1 Score (macro): 0.9574\n",
      "\n",
      "Classification Report:\n",
      "               precision    recall  f1-score   support\n",
      "\n",
      "           0       0.94      0.96      0.95       360\n",
      "           1       0.95      0.96      0.95       359\n",
      "           2       0.95      0.95      0.95       359\n",
      "           3       0.98      0.95      0.96       359\n",
      "           4       0.94      0.96      0.95       359\n",
      "           5       0.99      0.97      0.98       360\n",
      "\n",
      "    accuracy                           0.96      2156\n",
      "   macro avg       0.96      0.96      0.96      2156\n",
      "weighted avg       0.96      0.96      0.96      2156\n",
      "\n"
     ]
    },
    {
     "data": {
      "image/png": "[encoded data removed]",
      "text/plain": [
       "<Figure size 640x480 with 2 Axes>"
      ]
     },
     "metadata": {},
     "output_type": "display_data"
    }
   ],
   "source": [
    "evaluate_train_test(xgb, X_input_train, X_input_test, y_train, y_test)"
   ]
  },
  {
   "cell_type": "code",
   "execution_count": 82,
   "id": "dd8bf145-9c3c-43d2-ac2b-d84a7a15d459",
   "metadata": {},
   "outputs": [],
   "source": [
    "svc = LinearSVC(random_state=42)"
   ]
  },
  {
   "cell_type": "code",
   "execution_count": 83,
   "id": "a0fa1682-3750-4309-a23f-80547db166b7",
   "metadata": {},
   "outputs": [
    {
     "name": "stderr",
     "output_type": "stream",
     "text": [
      "D:\\MiniForge\\envs\\email_classification_env\\Lib\\site-packages\\sklearn\\svm\\_base.py:1250: ConvergenceWarning: Liblinear failed to converge, increase the number of iterations.\n",
      "  warnings.warn(\n",
      "D:\\MiniForge\\envs\\email_classification_env\\Lib\\site-packages\\sklearn\\svm\\_base.py:1250: ConvergenceWarning: Liblinear failed to converge, increase the number of iterations.\n",
      "  warnings.warn(\n",
      "D:\\MiniForge\\envs\\email_classification_env\\Lib\\site-packages\\sklearn\\svm\\_base.py:1250: ConvergenceWarning: Liblinear failed to converge, increase the number of iterations.\n",
      "  warnings.warn(\n",
      "D:\\MiniForge\\envs\\email_classification_env\\Lib\\site-packages\\sklearn\\svm\\_base.py:1250: ConvergenceWarning: Liblinear failed to converge, increase the number of iterations.\n",
      "  warnings.warn(\n",
      "D:\\MiniForge\\envs\\email_classification_env\\Lib\\site-packages\\sklearn\\svm\\_base.py:1250: ConvergenceWarning: Liblinear failed to converge, increase the number of iterations.\n",
      "  warnings.warn(\n"
     ]
    }
   ],
   "source": [
    "results_2 = stratified_kfold_eval(X_input_train,y_train,svc,n_splits=5)"
   ]
  },
  {
   "cell_type": "code",
   "execution_count": 84,
   "id": "415ce9be-8a8e-4b7d-b8f6-27cc9a0f7d61",
   "metadata": {},
   "outputs": [
    {
     "data": {
      "text/html": [
       "<div>\n",
       "<style scoped>\n",
       "    .dataframe tbody tr th:only-of-type {\n",
       "        vertical-align: middle;\n",
       "    }\n",
       "\n",
       "    .dataframe tbody tr th {\n",
       "        vertical-align: top;\n",
       "    }\n",
       "\n",
       "    .dataframe thead th {\n",
       "        text-align: right;\n",
       "    }\n",
       "</style>\n",
       "<table border=\"1\" class=\"dataframe\">\n",
       "  <thead>\n",
       "    <tr style=\"text-align: right;\">\n",
       "      <th></th>\n",
       "      <th>mean_accuracy</th>\n",
       "      <th>std_accuracy</th>\n",
       "      <th>mean_f1</th>\n",
       "      <th>std_f1</th>\n",
       "    </tr>\n",
       "  </thead>\n",
       "  <tbody>\n",
       "    <tr>\n",
       "      <th>0</th>\n",
       "      <td>0.971127</td>\n",
       "      <td>0.002728</td>\n",
       "      <td>0.971207</td>\n",
       "      <td>0.002735</td>\n",
       "    </tr>\n",
       "  </tbody>\n",
       "</table>\n",
       "</div>"
      ],
      "text/plain": [
       "   mean_accuracy  std_accuracy   mean_f1    std_f1\n",
       "0       0.971127      0.002728  0.971207  0.002735"
      ]
     },
     "execution_count": 84,
     "metadata": {},
     "output_type": "execute_result"
    }
   ],
   "source": [
    "results_2"
   ]
  },
  {
   "cell_type": "code",
   "execution_count": 85,
   "id": "8d94a024-1cc8-4545-84bb-39baf81dba00",
   "metadata": {},
   "outputs": [
    {
     "name": "stderr",
     "output_type": "stream",
     "text": [
      "D:\\MiniForge\\envs\\email_classification_env\\Lib\\site-packages\\sklearn\\svm\\_base.py:1250: ConvergenceWarning: Liblinear failed to converge, increase the number of iterations.\n",
      "  warnings.warn(\n"
     ]
    },
    {
     "name": "stdout",
     "output_type": "stream",
     "text": [
      "Accuracy: 0.9694\n",
      "F1 Score (macro): 0.9695\n",
      "\n",
      "Classification Report:\n",
      "               precision    recall  f1-score   support\n",
      "\n",
      "           0       0.94      0.97      0.96       360\n",
      "           1       0.97      0.97      0.97       359\n",
      "           2       0.95      0.97      0.96       359\n",
      "           3       0.99      0.95      0.97       359\n",
      "           4       0.97      0.97      0.97       359\n",
      "           5       0.99      0.97      0.98       360\n",
      "\n",
      "    accuracy                           0.97      2156\n",
      "   macro avg       0.97      0.97      0.97      2156\n",
      "weighted avg       0.97      0.97      0.97      2156\n",
      "\n"
     ]
    },
    {
     "data": {
      "image/png": "[encoded data removed]",
      "text/plain": [
       "<Figure size 640x480 with 2 Axes>"
      ]
     },
     "metadata": {},
     "output_type": "display_data"
    }
   ],
   "source": [
    "evaluate_train_test(svc, X_input_train, X_input_test, y_train, y_test)"
   ]
  },
  {
   "cell_type": "code",
   "execution_count": 89,
   "id": "7c02aa10-7a4f-41ad-b95c-edfe7193f8d6",
   "metadata": {},
   "outputs": [],
   "source": [
    "lgbm = LGBMClassifier(\n",
    "    objective=\"multiclass\",\n",
    "    n_jobs=-1,\n",
    "    random_state=42\n",
    ")"
   ]
  },
  {
   "cell_type": "code",
   "execution_count": 90,
   "id": "e131b9af-eb72-4491-bfff-c81fa4dec441",
   "metadata": {},
   "outputs": [
    {
     "name": "stdout",
     "output_type": "stream",
     "text": [
      "[LightGBM] [Info] Auto-choosing row-wise multi-threading, the overhead of testing was 0.044717 seconds.\n",
      "You can set `force_row_wise=true` to remove the overhead.\n",
      "And if memory is not enough, you can set `force_col_wise=true`.\n",
      "[LightGBM] [Info] Total Bins 40965\n",
      "[LightGBM] [Info] Number of data points in the train set: 6899, number of used features: 2039\n",
      "[LightGBM] [Info] Start training from score -1.789877\n",
      "[LightGBM] [Info] Start training from score -1.791615\n",
      "[LightGBM] [Info] Start training from score -1.792484\n",
      "[LightGBM] [Info] Start training from score -1.793355\n",
      "[LightGBM] [Info] Start training from score -1.793355\n",
      "[LightGBM] [Info] Start training from score -1.789877\n"
     ]
    },
    {
     "name": "stderr",
     "output_type": "stream",
     "text": [
      "D:\\MiniForge\\envs\\email_classification_env\\Lib\\site-packages\\sklearn\\utils\\validation.py:2749: UserWarning: X does not have valid feature names, but LGBMClassifier was fitted with feature names\n",
      "  warnings.warn(\n"
     ]
    },
    {
     "name": "stdout",
     "output_type": "stream",
     "text": [
      "[LightGBM] [Info] Auto-choosing col-wise multi-threading, the overhead of testing was 0.030525 seconds.\n",
      "You can set `force_col_wise=true` to remove the overhead.\n",
      "[LightGBM] [Info] Total Bins 41194\n",
      "[LightGBM] [Info] Number of data points in the train set: 6899, number of used features: 2056\n",
      "[LightGBM] [Info] Start training from score -1.789877\n",
      "[LightGBM] [Info] Start training from score -1.791615\n",
      "[LightGBM] [Info] Start training from score -1.792484\n",
      "[LightGBM] [Info] Start training from score -1.793355\n",
      "[LightGBM] [Info] Start training from score -1.793355\n",
      "[LightGBM] [Info] Start training from score -1.789877\n"
     ]
    },
    {
     "name": "stderr",
     "output_type": "stream",
     "text": [
      "D:\\MiniForge\\envs\\email_classification_env\\Lib\\site-packages\\sklearn\\utils\\validation.py:2749: UserWarning: X does not have valid feature names, but LGBMClassifier was fitted with feature names\n",
      "  warnings.warn(\n"
     ]
    },
    {
     "name": "stdout",
     "output_type": "stream",
     "text": [
      "[LightGBM] [Info] Auto-choosing col-wise multi-threading, the overhead of testing was 0.018125 seconds.\n",
      "You can set `force_col_wise=true` to remove the overhead.\n",
      "[LightGBM] [Info] Total Bins 41460\n",
      "[LightGBM] [Info] Number of data points in the train set: 6899, number of used features: 2060\n",
      "[LightGBM] [Info] Start training from score -1.789877\n",
      "[LightGBM] [Info] Start training from score -1.792484\n",
      "[LightGBM] [Info] Start training from score -1.791615\n",
      "[LightGBM] [Info] Start training from score -1.793355\n",
      "[LightGBM] [Info] Start training from score -1.793355\n",
      "[LightGBM] [Info] Start training from score -1.789877\n"
     ]
    },
    {
     "name": "stderr",
     "output_type": "stream",
     "text": [
      "D:\\MiniForge\\envs\\email_classification_env\\Lib\\site-packages\\sklearn\\utils\\validation.py:2749: UserWarning: X does not have valid feature names, but LGBMClassifier was fitted with feature names\n",
      "  warnings.warn(\n"
     ]
    },
    {
     "name": "stdout",
     "output_type": "stream",
     "text": [
      "[LightGBM] [Info] Auto-choosing col-wise multi-threading, the overhead of testing was 0.034491 seconds.\n",
      "You can set `force_col_wise=true` to remove the overhead.\n",
      "[LightGBM] [Info] Total Bins 41395\n",
      "[LightGBM] [Info] Number of data points in the train set: 6899, number of used features: 2047\n",
      "[LightGBM] [Info] Start training from score -1.789877\n",
      "[LightGBM] [Info] Start training from score -1.792484\n",
      "[LightGBM] [Info] Start training from score -1.791615\n",
      "[LightGBM] [Info] Start training from score -1.793355\n",
      "[LightGBM] [Info] Start training from score -1.793355\n",
      "[LightGBM] [Info] Start training from score -1.789877\n"
     ]
    },
    {
     "name": "stderr",
     "output_type": "stream",
     "text": [
      "D:\\MiniForge\\envs\\email_classification_env\\Lib\\site-packages\\sklearn\\utils\\validation.py:2749: UserWarning: X does not have valid feature names, but LGBMClassifier was fitted with feature names\n",
      "  warnings.warn(\n"
     ]
    },
    {
     "name": "stdout",
     "output_type": "stream",
     "text": [
      "[LightGBM] [Info] Auto-choosing col-wise multi-threading, the overhead of testing was 0.017064 seconds.\n",
      "You can set `force_col_wise=true` to remove the overhead.\n",
      "[LightGBM] [Info] Total Bins 41304\n",
      "[LightGBM] [Info] Number of data points in the train set: 6900, number of used features: 2027\n",
      "[LightGBM] [Info] Start training from score -1.790022\n",
      "[LightGBM] [Info] Start training from score -1.791759\n",
      "[LightGBM] [Info] Start training from score -1.791759\n",
      "[LightGBM] [Info] Start training from score -1.793500\n",
      "[LightGBM] [Info] Start training from score -1.793500\n",
      "[LightGBM] [Info] Start training from score -1.790022\n"
     ]
    },
    {
     "name": "stderr",
     "output_type": "stream",
     "text": [
      "D:\\MiniForge\\envs\\email_classification_env\\Lib\\site-packages\\sklearn\\utils\\validation.py:2749: UserWarning: X does not have valid feature names, but LGBMClassifier was fitted with feature names\n",
      "  warnings.warn(\n"
     ]
    }
   ],
   "source": [
    "result_lgb = stratified_kfold_eval(X_input_train,y_train,lgbm,n_splits=5)"
   ]
  },
  {
   "cell_type": "code",
   "execution_count": 91,
   "id": "088bd0b8-4238-44ed-b052-5d5d88058ec2",
   "metadata": {},
   "outputs": [
    {
     "data": {
      "text/html": [
       "<div>\n",
       "<style scoped>\n",
       "    .dataframe tbody tr th:only-of-type {\n",
       "        vertical-align: middle;\n",
       "    }\n",
       "\n",
       "    .dataframe tbody tr th {\n",
       "        vertical-align: top;\n",
       "    }\n",
       "\n",
       "    .dataframe thead th {\n",
       "        text-align: right;\n",
       "    }\n",
       "</style>\n",
       "<table border=\"1\" class=\"dataframe\">\n",
       "  <thead>\n",
       "    <tr style=\"text-align: right;\">\n",
       "      <th></th>\n",
       "      <th>mean_accuracy</th>\n",
       "      <th>std_accuracy</th>\n",
       "      <th>mean_f1</th>\n",
       "      <th>std_f1</th>\n",
       "    </tr>\n",
       "  </thead>\n",
       "  <tbody>\n",
       "    <tr>\n",
       "      <th>0</th>\n",
       "      <td>0.954661</td>\n",
       "      <td>0.004748</td>\n",
       "      <td>0.954716</td>\n",
       "      <td>0.004737</td>\n",
       "    </tr>\n",
       "  </tbody>\n",
       "</table>\n",
       "</div>"
      ],
      "text/plain": [
       "   mean_accuracy  std_accuracy   mean_f1    std_f1\n",
       "0       0.954661      0.004748  0.954716  0.004737"
      ]
     },
     "execution_count": 91,
     "metadata": {},
     "output_type": "execute_result"
    }
   ],
   "source": [
    "result_lgb"
   ]
  },
  {
   "cell_type": "code",
   "execution_count": 92,
   "id": "7eb43e73-15bc-4bb2-b995-62316cc160ca",
   "metadata": {},
   "outputs": [
    {
     "name": "stdout",
     "output_type": "stream",
     "text": [
      "[LightGBM] [Info] Auto-choosing col-wise multi-threading, the overhead of testing was 0.041065 seconds.\n",
      "You can set `force_col_wise=true` to remove the overhead.\n",
      "[LightGBM] [Info] Total Bins 51724\n",
      "[LightGBM] [Info] Number of data points in the train set: 8624, number of used features: 2296\n",
      "[LightGBM] [Info] Start training from score -1.789906\n",
      "[LightGBM] [Info] Start training from score -1.791991\n",
      "[LightGBM] [Info] Start training from score -1.791991\n",
      "[LightGBM] [Info] Start training from score -1.793384\n",
      "[LightGBM] [Info] Start training from score -1.793384\n",
      "[LightGBM] [Info] Start training from score -1.789906\n"
     ]
    },
    {
     "name": "stderr",
     "output_type": "stream",
     "text": [
      "D:\\MiniForge\\envs\\email_classification_env\\Lib\\site-packages\\sklearn\\utils\\validation.py:2749: UserWarning: X does not have valid feature names, but LGBMClassifier was fitted with feature names\n",
      "  warnings.warn(\n",
      "D:\\MiniForge\\envs\\email_classification_env\\Lib\\site-packages\\lightgbm\\basic.py:1238: UserWarning: Converting data to scipy sparse matrix.\n",
      "  _log_warning(\"Converting data to scipy sparse matrix.\")\n"
     ]
    },
    {
     "name": "stdout",
     "output_type": "stream",
     "text": [
      "Accuracy: 0.9573\n",
      "F1 Score (macro): 0.9574\n",
      "\n",
      "Classification Report:\n",
      "               precision    recall  f1-score   support\n",
      "\n",
      "           0       0.94      0.96      0.95       360\n",
      "           1       0.96      0.96      0.96       359\n",
      "           2       0.94      0.96      0.95       359\n",
      "           3       0.97      0.94      0.96       359\n",
      "           4       0.94      0.95      0.95       359\n",
      "           5       0.99      0.96      0.98       360\n",
      "\n",
      "    accuracy                           0.96      2156\n",
      "   macro avg       0.96      0.96      0.96      2156\n",
      "weighted avg       0.96      0.96      0.96      2156\n",
      "\n"
     ]
    },
    {
     "data": {
      "image/png": "[encoded data removed]",
      "text/plain": [
       "<Figure size 640x480 with 2 Axes>"
      ]
     },
     "metadata": {},
     "output_type": "display_data"
    }
   ],
   "source": [
    "evaluate_train_test(lgbm, X_input_train, X_input_test, y_train, y_test)"
   ]
  },
  {
   "cell_type": "code",
   "execution_count": 93,
   "id": "fdc7dbf9-085e-4326-929a-155891cda1f4",
   "metadata": {},
   "outputs": [],
   "source": [
    "mnb = MultinomialNB()"
   ]
  },
  {
   "cell_type": "code",
   "execution_count": 94,
   "id": "03540e84-286c-49f2-b580-745c0a847fa7",
   "metadata": {},
   "outputs": [],
   "source": [
    "X_input_train.data = np.maximum(X_input_train.data, 0)\n",
    "X_input_test.data = np.maximum(X_input_test.data, 0)"
   ]
  },
  {
   "cell_type": "code",
   "execution_count": 95,
   "id": "c8f5e01f-88a7-446e-9335-5b1a564e8164",
   "metadata": {},
   "outputs": [],
   "source": [
    "result_3 = stratified_kfold_eval(X_input_train,y_train,mnb,n_splits=5)"
   ]
  },
  {
   "cell_type": "code",
   "execution_count": 97,
   "id": "e9ae5aea-5bd1-47f5-9738-d99b3b7e4478",
   "metadata": {},
   "outputs": [
    {
     "data": {
      "text/html": [
       "<div>\n",
       "<style scoped>\n",
       "    .dataframe tbody tr th:only-of-type {\n",
       "        vertical-align: middle;\n",
       "    }\n",
       "\n",
       "    .dataframe tbody tr th {\n",
       "        vertical-align: top;\n",
       "    }\n",
       "\n",
       "    .dataframe thead th {\n",
       "        text-align: right;\n",
       "    }\n",
       "</style>\n",
       "<table border=\"1\" class=\"dataframe\">\n",
       "  <thead>\n",
       "    <tr style=\"text-align: right;\">\n",
       "      <th></th>\n",
       "      <th>mean_accuracy</th>\n",
       "      <th>std_accuracy</th>\n",
       "      <th>mean_f1</th>\n",
       "      <th>std_f1</th>\n",
       "    </tr>\n",
       "  </thead>\n",
       "  <tbody>\n",
       "    <tr>\n",
       "      <th>0</th>\n",
       "      <td>0.848911</td>\n",
       "      <td>0.011115</td>\n",
       "      <td>0.851334</td>\n",
       "      <td>0.010789</td>\n",
       "    </tr>\n",
       "  </tbody>\n",
       "</table>\n",
       "</div>"
      ],
      "text/plain": [
       "   mean_accuracy  std_accuracy   mean_f1    std_f1\n",
       "0       0.848911      0.011115  0.851334  0.010789"
      ]
     },
     "execution_count": 97,
     "metadata": {},
     "output_type": "execute_result"
    }
   ],
   "source": [
    "result_3"
   ]
  },
  {
   "cell_type": "code",
   "execution_count": 96,
   "id": "d65f3a62-a56f-41fc-a9fa-ed192d1f3303",
   "metadata": {},
   "outputs": [
    {
     "name": "stdout",
     "output_type": "stream",
     "text": [
      "Accuracy: 0.8734\n",
      "F1 Score (macro): 0.8755\n",
      "\n",
      "Classification Report:\n",
      "               precision    recall  f1-score   support\n",
      "\n",
      "           0       0.97      0.84      0.90       360\n",
      "           1       0.76      0.94      0.84       359\n",
      "           2       0.98      0.78      0.87       359\n",
      "           3       0.97      0.89      0.93       359\n",
      "           4       0.75      0.87      0.80       359\n",
      "           5       0.89      0.91      0.90       360\n",
      "\n",
      "    accuracy                           0.87      2156\n",
      "   macro avg       0.89      0.87      0.88      2156\n",
      "weighted avg       0.89      0.87      0.88      2156\n",
      "\n"
     ]
    },
    {
     "data": {
      "image/png": "[encoded data removed]",
      "text/plain": [
       "<Figure size 640x480 with 2 Axes>"
      ]
     },
     "metadata": {},
     "output_type": "display_data"
    }
   ],
   "source": [
    "evaluate_train_test(mnb, X_input_train, X_input_test, y_train, y_test)"
   ]
  },
  {
   "cell_type": "code",
   "execution_count": null,
   "id": "f7c35d26-17f0-432e-85d1-e7c060f17034",
   "metadata": {},
   "outputs": [],
   "source": []
  }
 ],
 "metadata": {
  "kernelspec": {
   "display_name": "Python (email_classification_env)",
   "language": "python",
   "name": "email_classification_env"
  },
  "language_info": {
   "codemirror_mode": {
    "name": "ipython",
    "version": 3
   },
   "file_extension": ".py",
   "mimetype": "text/x-python",
   "name": "python",
   "nbconvert_exporter": "python",
   "pygments_lexer": "ipython3",
   "version": "3.13.5"
  }
 },
 "nbformat": 4,
 "nbformat_minor": 5
}
