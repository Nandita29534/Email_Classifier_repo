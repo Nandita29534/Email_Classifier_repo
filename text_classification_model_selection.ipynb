{
 "cells": [
  {
   "cell_type": "code",
   "execution_count": 1,
   "id": "b8c62379-64c7-45de-b067-f79111ee1931",
   "metadata": {},
   "outputs": [],
   "source": [
    "import os\n",
    "from dotenv import load_dotenv\n",
    "from sqlalchemy import create_engine\n",
    "import pandas as pd\n",
    "import numpy as np\n",
    "import matplotlib.pyplot as plt\n",
    "import seaborn as sns"
   ]
  },
  {
   "cell_type": "code",
   "execution_count": 2,
   "id": "dbfc4d41-922c-4c4a-8168-92fba1008ab7",
   "metadata": {},
   "outputs": [],
   "source": [
    "import re\n",
    "import string\n",
    "import nltk"
   ]
  },
  {
   "cell_type": "code",
   "execution_count": 3,
   "id": "b2f3ae9d-4de1-4dc4-9404-4d599e0ce562",
   "metadata": {},
   "outputs": [],
   "source": [
    "from sklearn.feature_extraction.text import TfidfVectorizer"
   ]
  },
  {
   "cell_type": "code",
   "execution_count": 4,
   "id": "e445e794-34aa-4d74-985b-021ab076ee62",
   "metadata": {},
   "outputs": [],
   "source": [
    "from sklearn.model_selection import train_test_split,StratifiedKFold, ParameterGrid"
   ]
  },
  {
   "cell_type": "code",
   "execution_count": 5,
   "id": "f165541e-3b41-4bfb-91c2-93edc1369920",
   "metadata": {},
   "outputs": [],
   "source": [
    "from sklearn.metrics import classification_report,ConfusionMatrixDisplay, accuracy_score,f1_score"
   ]
  },
  {
   "cell_type": "code",
   "execution_count": 6,
   "id": "3fc33889-2ad9-4184-9ad2-8a1b547470b3",
   "metadata": {},
   "outputs": [],
   "source": [
    "from sklearn.ensemble import RandomForestClassifier"
   ]
  },
  {
   "cell_type": "code",
   "execution_count": 10,
   "id": "8ae01ef2-9dea-4f8e-995e-cdbaa04f5f4c",
   "metadata": {},
   "outputs": [],
   "source": [
    "from xgboost import XGBClassifier"
   ]
  },
  {
   "cell_type": "code",
   "execution_count": 53,
   "id": "b6b914c2-a510-4fdb-a797-29a41923504d",
   "metadata": {},
   "outputs": [],
   "source": [
    "from sklearn.svm import LinearSVC"
   ]
  },
  {
   "cell_type": "code",
   "execution_count": 57,
   "id": "78b82135-5278-419a-a44d-175a69c3eea3",
   "metadata": {},
   "outputs": [],
   "source": [
    "from sklearn.naive_bayes import MultinomialNB"
   ]
  },
  {
   "cell_type": "code",
   "execution_count": 7,
   "id": "31ef0b48-09e7-46cc-84a6-ddb7acc22f21",
   "metadata": {},
   "outputs": [],
   "source": [
    "import psycopg2"
   ]
  },
  {
   "cell_type": "code",
   "execution_count": 8,
   "id": "1082d1ca-b839-40d9-b030-3c4cd3891ea3",
   "metadata": {},
   "outputs": [],
   "source": [
    "from scipy.sparse import hstack,csr_matrix,issparse"
   ]
  },
  {
   "cell_type": "code",
   "execution_count": 9,
   "id": "08a14647-10f5-4da4-a5bd-4cd873bbc1ff",
   "metadata": {},
   "outputs": [],
   "source": [
    "from textblob import TextBlob\n",
    "import textstat"
   ]
  },
  {
   "cell_type": "code",
   "execution_count": 11,
   "id": "0d55223a-8d73-486c-bede-0c4e71e5734e",
   "metadata": {},
   "outputs": [
    {
     "name": "stderr",
     "output_type": "stream",
     "text": [
      "[nltk_data] Downloading package punkt to\n",
      "[nltk_data]     C:\\Users\\Nandita\\AppData\\Roaming\\nltk_data...\n",
      "[nltk_data]   Package punkt is already up-to-date!\n"
     ]
    },
    {
     "data": {
      "text/plain": [
       "True"
      ]
     },
     "execution_count": 11,
     "metadata": {},
     "output_type": "execute_result"
    }
   ],
   "source": [
    "nltk.download('punkt')"
   ]
  },
  {
   "cell_type": "code",
   "execution_count": 12,
   "id": "4ad053c4-7f27-41fa-8e6c-c4d79e759d24",
   "metadata": {},
   "outputs": [
    {
     "name": "stderr",
     "output_type": "stream",
     "text": [
      "[nltk_data] Downloading package stopwords to\n",
      "[nltk_data]     C:\\Users\\Nandita\\AppData\\Roaming\\nltk_data...\n",
      "[nltk_data]   Package stopwords is already up-to-date!\n"
     ]
    },
    {
     "data": {
      "text/plain": [
       "True"
      ]
     },
     "execution_count": 12,
     "metadata": {},
     "output_type": "execute_result"
    }
   ],
   "source": [
    "nltk.download('stopwords')"
   ]
  },
  {
   "cell_type": "code",
   "execution_count": 13,
   "id": "839efd58-831a-4ecb-8063-09ce21eacd2b",
   "metadata": {},
   "outputs": [],
   "source": [
    "from nltk.corpus import stopwords"
   ]
  },
  {
   "cell_type": "code",
   "execution_count": 14,
   "id": "68366cc9-b480-4097-9676-35bc5733f355",
   "metadata": {},
   "outputs": [
    {
     "data": {
      "text/plain": [
       "True"
      ]
     },
     "execution_count": 14,
     "metadata": {},
     "output_type": "execute_result"
    }
   ],
   "source": [
    "load_dotenv()"
   ]
  },
  {
   "cell_type": "code",
   "execution_count": 15,
   "id": "b450dabe-b988-4c7a-9d0e-abf8799b2871",
   "metadata": {},
   "outputs": [],
   "source": [
    "DB_HOST = os.getenv(\"DB_HOST\")\n",
    "DB_PORT = os.getenv(\"DB_PORT\")\n",
    "DB_NAME = os.getenv(\"DB_NAME\")\n",
    "DB_USER = os.getenv(\"DB_USER\")\n",
    "DB_PASSWORD = os.getenv(\"DB_PASSWORD\")"
   ]
  },
  {
   "cell_type": "code",
   "execution_count": 16,
   "id": "5944e141-de6a-468e-bafe-d96564cf8493",
   "metadata": {},
   "outputs": [],
   "source": [
    "DATABASE_URL = f\"postgresql+psycopg2://{DB_USER}:{DB_PASSWORD}@{DB_HOST}:{DB_PORT}/{DB_NAME}\""
   ]
  },
  {
   "cell_type": "code",
   "execution_count": 17,
   "id": "d44f56f4-1c8a-428b-b6d0-2b9fb0e486f5",
   "metadata": {},
   "outputs": [],
   "source": [
    "engine = create_engine(DATABASE_URL)"
   ]
  },
  {
   "cell_type": "code",
   "execution_count": 18,
   "id": "364ee38c-6865-49a4-a3bd-b01882022939",
   "metadata": {},
   "outputs": [],
   "source": [
    "train_df = pd.read_sql(\"SELECT * FROM train_data\", engine)"
   ]
  },
  {
   "cell_type": "code",
   "execution_count": 19,
   "id": "ee25285f-54aa-43d9-9a1e-f65e41616eda",
   "metadata": {},
   "outputs": [],
   "source": [
    "def clean_texts(col): \n",
    "    col = col.lower() \n",
    "    col = re.sub(r\"\\d+\", \" num \", col)  \n",
    "    col = re.sub(r\"[^\\w\\s!?]\", \"\", col)  \n",
    "    col = \" \".join([word for word in col.split() if word not in stopwords.words('english')])  \n",
    "    return col"
   ]
  },
  {
   "cell_type": "code",
   "execution_count": 20,
   "id": "a038c6e0-1c06-4059-9a56-bb4a1719ff68",
   "metadata": {},
   "outputs": [],
   "source": [
    "def convert_to_tfidf_vectorizer(df, text_col, max_features=5000, ngram_range=(1,2)):\n",
    "    df = df.copy()\n",
    "    vectorizer = TfidfVectorizer(max_features=max_features, ngram_range=ngram_range)\n",
    "    X_tfidf = vectorizer.fit_transform(df[text_col])\n",
    "    \n",
    "    return X_tfidf, vectorizer"
   ]
  },
  {
   "cell_type": "code",
   "execution_count": 21,
   "id": "119238c5-80dd-4bee-8604-dfd4c491a141",
   "metadata": {},
   "outputs": [],
   "source": [
    "def get_train_test(X, y, test_size=0.2, random_state=101):\n",
    "    X_train, X_test, y_train, y_test = train_test_split(\n",
    "        X, y,\n",
    "        test_size=test_size,\n",
    "        random_state=random_state,\n",
    "        stratify=y   \n",
    "    )\n",
    "    return X_train, X_test, y_train, y_test"
   ]
  },
  {
   "cell_type": "code",
   "execution_count": 22,
   "id": "bc35b006-275d-482c-9c80-cbb396829690",
   "metadata": {},
   "outputs": [],
   "source": [
    "def combine_features(X_tfidf, engineered_features):\n",
    "    if not issparse(engineered_features):\n",
    "        engineered_features = engineered_features.values\n",
    "    \n",
    "    return hstack([X_tfidf, engineered_features])"
   ]
  },
  {
   "cell_type": "code",
   "execution_count": 23,
   "id": "d7ae642f-ae2d-40b6-826c-658b71014648",
   "metadata": {},
   "outputs": [],
   "source": [
    "def get_all_feature_names(tfidf_vectorizer, engineered_features):\n",
    "    tfidf_features = tfidf_vectorizer.get_feature_names_out()\n",
    "    engineered_features_cols = engineered_features.columns\n",
    "    return np.concatenate([tfidf_features, engineered_features_cols])"
   ]
  },
  {
   "cell_type": "code",
   "execution_count": 24,
   "id": "0798c477-f720-4e18-bfa1-214acea8994e",
   "metadata": {},
   "outputs": [],
   "source": [
    "def textblob_features(text):\n",
    "    blob = TextBlob(text)\n",
    "    return pd.Series([blob.sentiment.polarity,blob.sentiment.subjectivity])"
   ]
  },
  {
   "cell_type": "code",
   "execution_count": 25,
   "id": "3a9e4d63-d66a-451e-9fea-1341a832c87c",
   "metadata": {},
   "outputs": [],
   "source": [
    "def get_readability(text):\n",
    "    flesch = textstat.flesch_reading_ease(text)\n",
    "    gunning = textstat.gunning_fog(text)\n",
    "    return pd.Series([flesch,gunning])"
   ]
  },
  {
   "cell_type": "code",
   "execution_count": 26,
   "id": "8b8c93b1-c23a-4589-be0c-207c5014bd11",
   "metadata": {},
   "outputs": [],
   "source": [
    "def stratified_kfold_eval(X, y, model, n_splits=5):\n",
    "    \n",
    "    skf = StratifiedKFold(n_splits=n_splits, shuffle=True, random_state=42)\n",
    "    accuracies, f1_scores = [], []\n",
    "\n",
    "    for train_idx, val_idx in skf.split(X, y):\n",
    "        X_train_fold, X_val_fold = X[train_idx], X[val_idx]\n",
    "        y_train_fold, y_val_fold = y.iloc[train_idx], y.iloc[val_idx]\n",
    "\n",
    "        model.fit(X_train_fold, y_train_fold)\n",
    "        y_pred = model.predict(X_val_fold)\n",
    "\n",
    "        accuracies.append(accuracy_score(y_val_fold, y_pred))\n",
    "        f1_scores.append(f1_score(y_val_fold, y_pred, average=\"macro\"))\n",
    "\n",
    "    results = {\n",
    "        \"mean_accuracy\": np.mean(accuracies),\n",
    "        \"std_accuracy\": np.std(accuracies),\n",
    "        \"mean_f1\": np.mean(f1_scores),\n",
    "        \"std_f1\": np.std(f1_scores)\n",
    "    }\n",
    "\n",
    "    return pd.DataFrame([results])\n"
   ]
  },
  {
   "cell_type": "code",
   "execution_count": 27,
   "id": "c88d0806-5a38-4e81-b9c4-92c590b33f23",
   "metadata": {},
   "outputs": [],
   "source": [
    "df1 = train_df.copy()"
   ]
  },
  {
   "cell_type": "code",
   "execution_count": 28,
   "id": "6bbcdba5-9b93-4002-b4bc-c88961189061",
   "metadata": {},
   "outputs": [
    {
     "data": {
      "text/plain": [
       "Index(['id', 'subject', 'body', 'text', 'category', 'category_id'], dtype='object')"
      ]
     },
     "execution_count": 28,
     "metadata": {},
     "output_type": "execute_result"
    }
   ],
   "source": [
    "df1.columns"
   ]
  },
  {
   "cell_type": "code",
   "execution_count": 29,
   "id": "aec36c63-6f54-464c-8859-5ca7362872ff",
   "metadata": {},
   "outputs": [],
   "source": [
    "df1['combined_text_original'] = df1['subject'] + \" \" + df1['body']+ \" \" +df1['text']"
   ]
  },
  {
   "cell_type": "code",
   "execution_count": 30,
   "id": "036bf27f-8382-4d96-95f0-6c9426f5b140",
   "metadata": {},
   "outputs": [],
   "source": [
    "df1['combined_text_normalized'] = df1['combined_text_original'].astype(str).apply(clean_texts)"
   ]
  },
  {
   "cell_type": "code",
   "execution_count": 31,
   "id": "2db7f724-aa15-49b9-a1f8-fe393714d549",
   "metadata": {},
   "outputs": [
    {
     "data": {
      "text/html": [
       "<div>\n",
       "<style scoped>\n",
       "    .dataframe tbody tr th:only-of-type {\n",
       "        vertical-align: middle;\n",
       "    }\n",
       "\n",
       "    .dataframe tbody tr th {\n",
       "        vertical-align: top;\n",
       "    }\n",
       "\n",
       "    .dataframe thead th {\n",
       "        text-align: right;\n",
       "    }\n",
       "</style>\n",
       "<table border=\"1\" class=\"dataframe\">\n",
       "  <thead>\n",
       "    <tr style=\"text-align: right;\">\n",
       "      <th></th>\n",
       "      <th>id</th>\n",
       "      <th>subject</th>\n",
       "      <th>body</th>\n",
       "      <th>text</th>\n",
       "      <th>category</th>\n",
       "      <th>category_id</th>\n",
       "      <th>combined_text_original</th>\n",
       "      <th>combined_text_normalized</th>\n",
       "    </tr>\n",
       "  </thead>\n",
       "  <tbody>\n",
       "    <tr>\n",
       "      <th>0</th>\n",
       "      <td>promotions_582</td>\n",
       "      <td>Anniversary Special: Buy one get one free</td>\n",
       "      <td>As our loyal customer, get exclusive $60 off $...</td>\n",
       "      <td>Anniversary Special: Buy one get one free As o...</td>\n",
       "      <td>promotions</td>\n",
       "      <td>1</td>\n",
       "      <td>Anniversary Special: Buy one get one free As o...</td>\n",
       "      <td>anniversary special buy one get one free loyal...</td>\n",
       "    </tr>\n",
       "    <tr>\n",
       "      <th>1</th>\n",
       "      <td>spam_1629</td>\n",
       "      <td>Your Amazon was used on new device</td>\n",
       "      <td>Your $5000 refund is processed. Claim: bit.ly/...</td>\n",
       "      <td>Your Amazon was used on new device Your $5000 ...</td>\n",
       "      <td>spam</td>\n",
       "      <td>3</td>\n",
       "      <td>Your Amazon was used on new device Your $5000 ...</td>\n",
       "      <td>amazon used new device num refund processed cl...</td>\n",
       "    </tr>\n",
       "    <tr>\n",
       "      <th>2</th>\n",
       "      <td>spam_322</td>\n",
       "      <td>Re: Your Google inquiry</td>\n",
       "      <td>Hi, following up about your Google application...</td>\n",
       "      <td>Re: Your Google inquiry Hi, following up about...</td>\n",
       "      <td>spam</td>\n",
       "      <td>3</td>\n",
       "      <td>Re: Your Google inquiry Hi, following up about...</td>\n",
       "      <td>google inquiry hi following google application...</td>\n",
       "    </tr>\n",
       "    <tr>\n",
       "      <th>3</th>\n",
       "      <td>social_media_80</td>\n",
       "      <td>Digital Ritual Experience Creation</td>\n",
       "      <td>Cross-cultural ceremony design. Join: virtualr...</td>\n",
       "      <td>Digital Ritual Experience Creation Cross-cultu...</td>\n",
       "      <td>social_media</td>\n",
       "      <td>2</td>\n",
       "      <td>Digital Ritual Experience Creation Cross-cultu...</td>\n",
       "      <td>digital ritual experience creation crosscultur...</td>\n",
       "    </tr>\n",
       "    <tr>\n",
       "      <th>4</th>\n",
       "      <td>forum_1351</td>\n",
       "      <td>Your post was moved to \"Programming Help\"</td>\n",
       "      <td>Trending: \"cooking\" (258 comments). View: supp...</td>\n",
       "      <td>Your post was moved to \"Programming Help\" Tren...</td>\n",
       "      <td>forum</td>\n",
       "      <td>0</td>\n",
       "      <td>Your post was moved to \"Programming Help\" Tren...</td>\n",
       "      <td>post moved programming help trending cooking n...</td>\n",
       "    </tr>\n",
       "  </tbody>\n",
       "</table>\n",
       "</div>"
      ],
      "text/plain": [
       "                id                                    subject  \\\n",
       "0   promotions_582  Anniversary Special: Buy one get one free   \n",
       "1        spam_1629         Your Amazon was used on new device   \n",
       "2         spam_322                    Re: Your Google inquiry   \n",
       "3  social_media_80         Digital Ritual Experience Creation   \n",
       "4       forum_1351  Your post was moved to \"Programming Help\"   \n",
       "\n",
       "                                                body  \\\n",
       "0  As our loyal customer, get exclusive $60 off $...   \n",
       "1  Your $5000 refund is processed. Claim: bit.ly/...   \n",
       "2  Hi, following up about your Google application...   \n",
       "3  Cross-cultural ceremony design. Join: virtualr...   \n",
       "4  Trending: \"cooking\" (258 comments). View: supp...   \n",
       "\n",
       "                                                text      category  \\\n",
       "0  Anniversary Special: Buy one get one free As o...    promotions   \n",
       "1  Your Amazon was used on new device Your $5000 ...          spam   \n",
       "2  Re: Your Google inquiry Hi, following up about...          spam   \n",
       "3  Digital Ritual Experience Creation Cross-cultu...  social_media   \n",
       "4  Your post was moved to \"Programming Help\" Tren...         forum   \n",
       "\n",
       "   category_id                             combined_text_original  \\\n",
       "0            1  Anniversary Special: Buy one get one free As o...   \n",
       "1            3  Your Amazon was used on new device Your $5000 ...   \n",
       "2            3  Re: Your Google inquiry Hi, following up about...   \n",
       "3            2  Digital Ritual Experience Creation Cross-cultu...   \n",
       "4            0  Your post was moved to \"Programming Help\" Tren...   \n",
       "\n",
       "                            combined_text_normalized  \n",
       "0  anniversary special buy one get one free loyal...  \n",
       "1  amazon used new device num refund processed cl...  \n",
       "2  google inquiry hi following google application...  \n",
       "3  digital ritual experience creation crosscultur...  \n",
       "4  post moved programming help trending cooking n...  "
      ]
     },
     "execution_count": 31,
     "metadata": {},
     "output_type": "execute_result"
    }
   ],
   "source": [
    "df1.head()"
   ]
  },
  {
   "cell_type": "code",
   "execution_count": 32,
   "id": "c2ffd38d-756a-47a2-8d82-5b256fd586b6",
   "metadata": {},
   "outputs": [],
   "source": [
    "df1 = df1[['category_id','combined_text_original','combined_text_normalized']]"
   ]
  },
  {
   "cell_type": "code",
   "execution_count": 33,
   "id": "f38ab015-da73-4f94-b9f8-c9960146e3c5",
   "metadata": {},
   "outputs": [],
   "source": [
    "df1[['polarity','subjectivity']] = df1['combined_text_original'].apply(textblob_features)"
   ]
  },
  {
   "cell_type": "code",
   "execution_count": 34,
   "id": "a85b7cc5-3b51-4244-bd5d-2357ede161e0",
   "metadata": {},
   "outputs": [],
   "source": [
    "df1[['flesch', 'gunning_fog']] = df1['combined_text_original'].apply(get_readability)"
   ]
  },
  {
   "cell_type": "code",
   "execution_count": 35,
   "id": "1036da54-2f12-469b-b846-6ab9c8a95b55",
   "metadata": {},
   "outputs": [
    {
     "data": {
      "text/html": [
       "<div>\n",
       "<style scoped>\n",
       "    .dataframe tbody tr th:only-of-type {\n",
       "        vertical-align: middle;\n",
       "    }\n",
       "\n",
       "    .dataframe tbody tr th {\n",
       "        vertical-align: top;\n",
       "    }\n",
       "\n",
       "    .dataframe thead th {\n",
       "        text-align: right;\n",
       "    }\n",
       "</style>\n",
       "<table border=\"1\" class=\"dataframe\">\n",
       "  <thead>\n",
       "    <tr style=\"text-align: right;\">\n",
       "      <th></th>\n",
       "      <th>category_id</th>\n",
       "      <th>combined_text_original</th>\n",
       "      <th>combined_text_normalized</th>\n",
       "      <th>polarity</th>\n",
       "      <th>subjectivity</th>\n",
       "      <th>flesch</th>\n",
       "      <th>gunning_fog</th>\n",
       "    </tr>\n",
       "  </thead>\n",
       "  <tbody>\n",
       "    <tr>\n",
       "      <th>0</th>\n",
       "      <td>1</td>\n",
       "      <td>Anniversary Special: Buy one get one free As o...</td>\n",
       "      <td>anniversary special buy one get one free loyal...</td>\n",
       "      <td>0.363492</td>\n",
       "      <td>0.734921</td>\n",
       "      <td>44.405000</td>\n",
       "      <td>10.000000</td>\n",
       "    </tr>\n",
       "    <tr>\n",
       "      <th>1</th>\n",
       "      <td>3</td>\n",
       "      <td>Your Amazon was used on new device Your $5000 ...</td>\n",
       "      <td>amazon used new device num refund processed cl...</td>\n",
       "      <td>0.118182</td>\n",
       "      <td>0.427273</td>\n",
       "      <td>68.819265</td>\n",
       "      <td>8.105882</td>\n",
       "    </tr>\n",
       "    <tr>\n",
       "      <th>2</th>\n",
       "      <td>3</td>\n",
       "      <td>Re: Your Google inquiry Hi, following up about...</td>\n",
       "      <td>google inquiry hi following google application...</td>\n",
       "      <td>0.000000</td>\n",
       "      <td>0.100000</td>\n",
       "      <td>74.352500</td>\n",
       "      <td>7.654545</td>\n",
       "    </tr>\n",
       "    <tr>\n",
       "      <th>3</th>\n",
       "      <td>2</td>\n",
       "      <td>Digital Ritual Experience Creation Cross-cultu...</td>\n",
       "      <td>digital ritual experience creation crosscultur...</td>\n",
       "      <td>0.000000</td>\n",
       "      <td>0.000000</td>\n",
       "      <td>-91.002045</td>\n",
       "      <td>31.290909</td>\n",
       "    </tr>\n",
       "    <tr>\n",
       "      <th>4</th>\n",
       "      <td>0</td>\n",
       "      <td>Your post was moved to \"Programming Help\" Tren...</td>\n",
       "      <td>post moved programming help trending cooking n...</td>\n",
       "      <td>0.000000</td>\n",
       "      <td>0.000000</td>\n",
       "      <td>50.470769</td>\n",
       "      <td>11.353846</td>\n",
       "    </tr>\n",
       "  </tbody>\n",
       "</table>\n",
       "</div>"
      ],
      "text/plain": [
       "   category_id                             combined_text_original  \\\n",
       "0            1  Anniversary Special: Buy one get one free As o...   \n",
       "1            3  Your Amazon was used on new device Your $5000 ...   \n",
       "2            3  Re: Your Google inquiry Hi, following up about...   \n",
       "3            2  Digital Ritual Experience Creation Cross-cultu...   \n",
       "4            0  Your post was moved to \"Programming Help\" Tren...   \n",
       "\n",
       "                            combined_text_normalized  polarity  subjectivity  \\\n",
       "0  anniversary special buy one get one free loyal...  0.363492      0.734921   \n",
       "1  amazon used new device num refund processed cl...  0.118182      0.427273   \n",
       "2  google inquiry hi following google application...  0.000000      0.100000   \n",
       "3  digital ritual experience creation crosscultur...  0.000000      0.000000   \n",
       "4  post moved programming help trending cooking n...  0.000000      0.000000   \n",
       "\n",
       "      flesch  gunning_fog  \n",
       "0  44.405000    10.000000  \n",
       "1  68.819265     8.105882  \n",
       "2  74.352500     7.654545  \n",
       "3 -91.002045    31.290909  \n",
       "4  50.470769    11.353846  "
      ]
     },
     "execution_count": 35,
     "metadata": {},
     "output_type": "execute_result"
    }
   ],
   "source": [
    "df1.head()"
   ]
  },
  {
   "cell_type": "code",
   "execution_count": 36,
   "id": "b406664d-9f63-4a97-8687-70ebab029ee4",
   "metadata": {},
   "outputs": [],
   "source": [
    "X = df1.drop('category_id',axis=1)"
   ]
  },
  {
   "cell_type": "code",
   "execution_count": 37,
   "id": "3a5a29d7-84b0-47f9-ab67-9893b41d9e1c",
   "metadata": {},
   "outputs": [],
   "source": [
    "y = df1['category_id']"
   ]
  },
  {
   "cell_type": "code",
   "execution_count": 38,
   "id": "61296386-ecd0-4fa1-823d-7eed08fe59b6",
   "metadata": {},
   "outputs": [],
   "source": [
    "X_train, X_test, y_train, y_test = get_train_test(X, y, test_size=0.2, random_state=101)"
   ]
  },
  {
   "cell_type": "code",
   "execution_count": 39,
   "id": "8a2c29a7-9929-4f86-b81d-589d1afc0b9b",
   "metadata": {},
   "outputs": [],
   "source": [
    "X_tfidf_train,vector = convert_to_tfidf_vectorizer(X_train,'combined_text_normalized',max_features=10000, ngram_range=(2,3))"
   ]
  },
  {
   "cell_type": "code",
   "execution_count": 40,
   "id": "0c230758-3ff2-4226-86ae-ea95ed580a83",
   "metadata": {},
   "outputs": [],
   "source": [
    "X_tfidf_test = vector.transform(X_test['combined_text_normalized'])"
   ]
  },
  {
   "cell_type": "code",
   "execution_count": 41,
   "id": "9c159d40-7bda-4db4-86ed-e421f0913b61",
   "metadata": {},
   "outputs": [],
   "source": [
    "X_train.drop(['combined_text_original','combined_text_normalized'],axis=1,inplace=True)"
   ]
  },
  {
   "cell_type": "code",
   "execution_count": 42,
   "id": "9f8d6b50-ed7a-4bc6-9286-ca49505c8966",
   "metadata": {},
   "outputs": [],
   "source": [
    "X_test.drop(['combined_text_original','combined_text_normalized'],axis=1,inplace=True)"
   ]
  },
  {
   "cell_type": "code",
   "execution_count": 43,
   "id": "ef82d0b7-a570-4bc1-a9a8-a011fd1cc2df",
   "metadata": {},
   "outputs": [],
   "source": [
    "X_input_train = combine_features(X_tfidf_train,X_train)"
   ]
  },
  {
   "cell_type": "code",
   "execution_count": 44,
   "id": "1a426ac4-1d5c-40ea-8818-8cf4dd6c9d9e",
   "metadata": {},
   "outputs": [],
   "source": [
    "X_input_test = combine_features(X_tfidf_test,X_test)"
   ]
  },
  {
   "cell_type": "code",
   "execution_count": 45,
   "id": "9877d299-9d04-4a84-9c5a-7cc913550c1f",
   "metadata": {},
   "outputs": [],
   "source": [
    "rf = RandomForestClassifier(random_state=42, n_jobs=-1)"
   ]
  },
  {
   "cell_type": "code",
   "execution_count": 46,
   "id": "4565b268-ad04-49cc-a42a-1564342108b2",
   "metadata": {},
   "outputs": [],
   "source": [
    "results = stratified_kfold_eval(X_tfidf_train,y_train,rf, n_splits=5)"
   ]
  },
  {
   "cell_type": "code",
   "execution_count": 47,
   "id": "2943ddd0-af43-4bdd-bce0-4930d8b3ff40",
   "metadata": {},
   "outputs": [
    {
     "data": {
      "text/html": [
       "<div>\n",
       "<style scoped>\n",
       "    .dataframe tbody tr th:only-of-type {\n",
       "        vertical-align: middle;\n",
       "    }\n",
       "\n",
       "    .dataframe tbody tr th {\n",
       "        vertical-align: top;\n",
       "    }\n",
       "\n",
       "    .dataframe thead th {\n",
       "        text-align: right;\n",
       "    }\n",
       "</style>\n",
       "<table border=\"1\" class=\"dataframe\">\n",
       "  <thead>\n",
       "    <tr style=\"text-align: right;\">\n",
       "      <th></th>\n",
       "      <th>mean_accuracy</th>\n",
       "      <th>std_accuracy</th>\n",
       "      <th>mean_f1</th>\n",
       "      <th>std_f1</th>\n",
       "    </tr>\n",
       "  </thead>\n",
       "  <tbody>\n",
       "    <tr>\n",
       "      <th>0</th>\n",
       "      <td>0.96417</td>\n",
       "      <td>0.001528</td>\n",
       "      <td>0.964546</td>\n",
       "      <td>0.001471</td>\n",
       "    </tr>\n",
       "  </tbody>\n",
       "</table>\n",
       "</div>"
      ],
      "text/plain": [
       "   mean_accuracy  std_accuracy   mean_f1    std_f1\n",
       "0        0.96417      0.001528  0.964546  0.001471"
      ]
     },
     "execution_count": 47,
     "metadata": {},
     "output_type": "execute_result"
    }
   ],
   "source": [
    "results"
   ]
  },
  {
   "cell_type": "code",
   "execution_count": 48,
   "id": "a5965b7a-393b-4160-9e77-79096af04dad",
   "metadata": {},
   "outputs": [],
   "source": [
    "xgb = XGBClassifier(\n",
    "    use_label_encoder=False,  # avoids warning\n",
    "    eval_metric=\"logloss\",    # needed for classification\n",
    "    n_jobs=-1,                # use all CPU cores\n",
    "    random_state=42\n",
    ")\n"
   ]
  },
  {
   "cell_type": "code",
   "execution_count": 51,
   "id": "1b4fda3f-8c54-4ed6-971d-8056dcb2b2f6",
   "metadata": {},
   "outputs": [
    {
     "name": "stderr",
     "output_type": "stream",
     "text": [
      "D:\\MiniForge\\envs\\email_classification_env\\Lib\\site-packages\\xgboost\\training.py:183: UserWarning: [13:32:07] WARNING: D:\\bld\\xgboost-split_1755048450370\\work\\src\\learner.cc:738: \n",
      "Parameters: { \"use_label_encoder\" } are not used.\n",
      "\n",
      "  bst.update(dtrain, iteration=i, fobj=obj)\n",
      "D:\\MiniForge\\envs\\email_classification_env\\Lib\\site-packages\\xgboost\\training.py:183: UserWarning: [13:32:33] WARNING: D:\\bld\\xgboost-split_1755048450370\\work\\src\\learner.cc:738: \n",
      "Parameters: { \"use_label_encoder\" } are not used.\n",
      "\n",
      "  bst.update(dtrain, iteration=i, fobj=obj)\n",
      "D:\\MiniForge\\envs\\email_classification_env\\Lib\\site-packages\\xgboost\\training.py:183: UserWarning: [13:33:00] WARNING: D:\\bld\\xgboost-split_1755048450370\\work\\src\\learner.cc:738: \n",
      "Parameters: { \"use_label_encoder\" } are not used.\n",
      "\n",
      "  bst.update(dtrain, iteration=i, fobj=obj)\n",
      "D:\\MiniForge\\envs\\email_classification_env\\Lib\\site-packages\\xgboost\\training.py:183: UserWarning: [13:33:25] WARNING: D:\\bld\\xgboost-split_1755048450370\\work\\src\\learner.cc:738: \n",
      "Parameters: { \"use_label_encoder\" } are not used.\n",
      "\n",
      "  bst.update(dtrain, iteration=i, fobj=obj)\n",
      "D:\\MiniForge\\envs\\email_classification_env\\Lib\\site-packages\\xgboost\\training.py:183: UserWarning: [13:33:52] WARNING: D:\\bld\\xgboost-split_1755048450370\\work\\src\\learner.cc:738: \n",
      "Parameters: { \"use_label_encoder\" } are not used.\n",
      "\n",
      "  bst.update(dtrain, iteration=i, fobj=obj)\n"
     ]
    }
   ],
   "source": [
    "results_1 = stratified_kfold_eval(X_tfidf_train,y_train,xgb,n_splits=5)"
   ]
  },
  {
   "cell_type": "code",
   "execution_count": 52,
   "id": "4c86963e-88b1-4985-8f41-0d37d8e3724e",
   "metadata": {},
   "outputs": [
    {
     "data": {
      "text/html": [
       "<div>\n",
       "<style scoped>\n",
       "    .dataframe tbody tr th:only-of-type {\n",
       "        vertical-align: middle;\n",
       "    }\n",
       "\n",
       "    .dataframe tbody tr th {\n",
       "        vertical-align: top;\n",
       "    }\n",
       "\n",
       "    .dataframe thead th {\n",
       "        text-align: right;\n",
       "    }\n",
       "</style>\n",
       "<table border=\"1\" class=\"dataframe\">\n",
       "  <thead>\n",
       "    <tr style=\"text-align: right;\">\n",
       "      <th></th>\n",
       "      <th>mean_accuracy</th>\n",
       "      <th>std_accuracy</th>\n",
       "      <th>mean_f1</th>\n",
       "      <th>std_f1</th>\n",
       "    </tr>\n",
       "  </thead>\n",
       "  <tbody>\n",
       "    <tr>\n",
       "      <th>0</th>\n",
       "      <td>0.94956</td>\n",
       "      <td>0.002667</td>\n",
       "      <td>0.950556</td>\n",
       "      <td>0.002625</td>\n",
       "    </tr>\n",
       "  </tbody>\n",
       "</table>\n",
       "</div>"
      ],
      "text/plain": [
       "   mean_accuracy  std_accuracy   mean_f1    std_f1\n",
       "0        0.94956      0.002667  0.950556  0.002625"
      ]
     },
     "execution_count": 52,
     "metadata": {},
     "output_type": "execute_result"
    }
   ],
   "source": [
    "results_1"
   ]
  },
  {
   "cell_type": "code",
   "execution_count": 54,
   "id": "dd8bf145-9c3c-43d2-ac2b-d84a7a15d459",
   "metadata": {},
   "outputs": [],
   "source": [
    "svc = LinearSVC(random_state=42)"
   ]
  },
  {
   "cell_type": "code",
   "execution_count": 55,
   "id": "f3cd7c07-4bb8-4c65-ac36-55c1d6f87818",
   "metadata": {},
   "outputs": [],
   "source": [
    "results_2 = stratified_kfold_eval(X_tfidf_train,y_train,svc,n_splits=5)"
   ]
  },
  {
   "cell_type": "code",
   "execution_count": 56,
   "id": "415ce9be-8a8e-4b7d-b8f6-27cc9a0f7d61",
   "metadata": {},
   "outputs": [
    {
     "data": {
      "text/html": [
       "<div>\n",
       "<style scoped>\n",
       "    .dataframe tbody tr th:only-of-type {\n",
       "        vertical-align: middle;\n",
       "    }\n",
       "\n",
       "    .dataframe tbody tr th {\n",
       "        vertical-align: top;\n",
       "    }\n",
       "\n",
       "    .dataframe thead th {\n",
       "        text-align: right;\n",
       "    }\n",
       "</style>\n",
       "<table border=\"1\" class=\"dataframe\">\n",
       "  <thead>\n",
       "    <tr style=\"text-align: right;\">\n",
       "      <th></th>\n",
       "      <th>mean_accuracy</th>\n",
       "      <th>std_accuracy</th>\n",
       "      <th>mean_f1</th>\n",
       "      <th>std_f1</th>\n",
       "    </tr>\n",
       "  </thead>\n",
       "  <tbody>\n",
       "    <tr>\n",
       "      <th>0</th>\n",
       "      <td>0.970083</td>\n",
       "      <td>0.001745</td>\n",
       "      <td>0.970203</td>\n",
       "      <td>0.001719</td>\n",
       "    </tr>\n",
       "  </tbody>\n",
       "</table>\n",
       "</div>"
      ],
      "text/plain": [
       "   mean_accuracy  std_accuracy   mean_f1    std_f1\n",
       "0       0.970083      0.001745  0.970203  0.001719"
      ]
     },
     "execution_count": 56,
     "metadata": {},
     "output_type": "execute_result"
    }
   ],
   "source": [
    "results_2"
   ]
  },
  {
   "cell_type": "code",
   "execution_count": 58,
   "id": "fdc7dbf9-085e-4326-929a-155891cda1f4",
   "metadata": {},
   "outputs": [],
   "source": [
    "mnb = MultinomialNB()"
   ]
  },
  {
   "cell_type": "code",
   "execution_count": 59,
   "id": "a0e706bf-8c30-485d-ac71-514e8a586daf",
   "metadata": {},
   "outputs": [],
   "source": [
    "result_3 = stratified_kfold_eval(X_tfidf_train,y_train,mnb,n_splits=5)"
   ]
  },
  {
   "cell_type": "code",
   "execution_count": 60,
   "id": "53991a52-59c2-4c12-a63e-6eed7b90f35e",
   "metadata": {},
   "outputs": [
    {
     "data": {
      "text/html": [
       "<div>\n",
       "<style scoped>\n",
       "    .dataframe tbody tr th:only-of-type {\n",
       "        vertical-align: middle;\n",
       "    }\n",
       "\n",
       "    .dataframe tbody tr th {\n",
       "        vertical-align: top;\n",
       "    }\n",
       "\n",
       "    .dataframe thead th {\n",
       "        text-align: right;\n",
       "    }\n",
       "</style>\n",
       "<table border=\"1\" class=\"dataframe\">\n",
       "  <thead>\n",
       "    <tr style=\"text-align: right;\">\n",
       "      <th></th>\n",
       "      <th>mean_accuracy</th>\n",
       "      <th>std_accuracy</th>\n",
       "      <th>mean_f1</th>\n",
       "      <th>std_f1</th>\n",
       "    </tr>\n",
       "  </thead>\n",
       "  <tbody>\n",
       "    <tr>\n",
       "      <th>0</th>\n",
       "      <td>0.971591</td>\n",
       "      <td>0.001272</td>\n",
       "      <td>0.971655</td>\n",
       "      <td>0.001249</td>\n",
       "    </tr>\n",
       "  </tbody>\n",
       "</table>\n",
       "</div>"
      ],
      "text/plain": [
       "   mean_accuracy  std_accuracy   mean_f1    std_f1\n",
       "0       0.971591      0.001272  0.971655  0.001249"
      ]
     },
     "execution_count": 60,
     "metadata": {},
     "output_type": "execute_result"
    }
   ],
   "source": [
    "result_3"
   ]
  },
  {
   "cell_type": "code",
   "execution_count": null,
   "id": "50858c0c-bc35-4df6-b8e3-705945a79c96",
   "metadata": {},
   "outputs": [],
   "source": []
  }
 ],
 "metadata": {
  "kernelspec": {
   "display_name": "Python (email_classification_env)",
   "language": "python",
   "name": "email_classification_env"
  },
  "language_info": {
   "codemirror_mode": {
    "name": "ipython",
    "version": 3
   },
   "file_extension": ".py",
   "mimetype": "text/x-python",
   "name": "python",
   "nbconvert_exporter": "python",
   "pygments_lexer": "ipython3",
   "version": "3.13.5"
  }
 },
 "nbformat": 4,
 "nbformat_minor": 5
}
